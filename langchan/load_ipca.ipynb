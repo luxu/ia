{
 "cells": [
  {
   "cell_type": "code",
   "id": "initial_id",
   "metadata": {
    "collapsed": true,
    "ExecuteTime": {
     "end_time": "2024-10-27T22:27:18.745153Z",
     "start_time": "2024-10-27T22:27:18.277176Z"
    }
   },
   "source": [
    "import pandas as pd\n",
    "import numpy as np\n",
    "import sqlite3"
   ],
   "outputs": [],
   "execution_count": 1
  },
  {
   "metadata": {
    "ExecuteTime": {
     "end_time": "2024-10-27T22:27:18.748814Z",
     "start_time": "2024-10-27T22:27:18.745153Z"
    }
   },
   "cell_type": "code",
   "source": "filename = 'ipca.xls'",
   "id": "449dacdd111dc4fd",
   "outputs": [],
   "execution_count": 2
  },
  {
   "metadata": {
    "ExecuteTime": {
     "end_time": "2024-10-27T22:27:18.774037Z",
     "start_time": "2024-10-27T22:27:18.748814Z"
    }
   },
   "cell_type": "code",
   "source": "df = pd.read_excel(filename)",
   "id": "209f05f59805015d",
   "outputs": [],
   "execution_count": 3
  },
  {
   "metadata": {},
   "cell_type": "markdown",
   "source": "# Transforma o tipo da coluna Mês que é *object* para *string*  ",
   "id": "9246972aea49063f"
  },
  {
   "metadata": {
    "ExecuteTime": {
     "end_time": "2024-10-27T22:27:18.781957Z",
     "start_time": "2024-10-27T22:27:18.774037Z"
    }
   },
   "cell_type": "code",
   "source": [
    "df[\"mes\"] = df[\"mes\"].fillna(0).astype(\"string\")\n",
    "df[\"mes\"]"
   ],
   "id": "74c07ef273b4265c",
   "outputs": [
    {
     "data": {
      "text/plain": [
       "0      JAN\n",
       "1      FEV\n",
       "2      MAR\n",
       "3      ABR\n",
       "4      MAI\n",
       "      ... \n",
       "364    MAI\n",
       "365    JUN\n",
       "366    JUL\n",
       "367    AGO\n",
       "368    SET\n",
       "Name: mes, Length: 369, dtype: string"
      ]
     },
     "execution_count": 4,
     "metadata": {},
     "output_type": "execute_result"
    }
   ],
   "execution_count": 4
  },
  {
   "metadata": {},
   "cell_type": "markdown",
   "source": "# Transforma o tipo da coluna ano que é *float* para *int*",
   "id": "ffff40e0b37d2b6b"
  },
  {
   "metadata": {
    "ExecuteTime": {
     "end_time": "2024-10-27T22:27:18.788457Z",
     "start_time": "2024-10-27T22:27:18.781957Z"
    }
   },
   "cell_type": "code",
   "source": [
    "df[\"ano\"] = df[\"ano\"].replace(\"\", np.nan)\n",
    "df[\"ano\"] = df[\"ano\"].fillna(0).astype(int)\n",
    "df[\"ano\"]"
   ],
   "id": "f82699c834867676",
   "outputs": [
    {
     "data": {
      "text/plain": [
       "0      1994\n",
       "1      1994\n",
       "2      1994\n",
       "3      1994\n",
       "4      1994\n",
       "       ... \n",
       "364    2024\n",
       "365    2024\n",
       "366    2024\n",
       "367    2024\n",
       "368    2024\n",
       "Name: ano, Length: 369, dtype: int32"
      ]
     },
     "execution_count": 5,
     "metadata": {},
     "output_type": "execute_result"
    }
   ],
   "execution_count": 5
  },
  {
   "metadata": {},
   "cell_type": "markdown",
   "source": "# Transforma o tipo da coluna valor que é *float* para *str*",
   "id": "71e591bedf697464"
  },
  {
   "metadata": {
    "ExecuteTime": {
     "end_time": "2024-10-27T22:27:18.797158Z",
     "start_time": "2024-10-27T22:27:18.788457Z"
    }
   },
   "cell_type": "code",
   "source": [
    "df[\"valor\"] = df[\"valor\"].replace(\"\", np.nan)\n",
    "df[\"valor\"] = df[\"valor\"].fillna(0).astype(\"string\")\n",
    "df[\"valor\"]"
   ],
   "id": "796183d382483dd0",
   "outputs": [
    {
     "data": {
      "text/plain": [
       "0      41.31\n",
       "1      40.27\n",
       "2      42.75\n",
       "3      42.68\n",
       "4      44.03\n",
       "       ...  \n",
       "364     0.46\n",
       "365     0.21\n",
       "366     0.38\n",
       "367    -0.02\n",
       "368     0.44\n",
       "Name: valor, Length: 369, dtype: string"
      ]
     },
     "execution_count": 6,
     "metadata": {},
     "output_type": "execute_result"
    }
   ],
   "execution_count": 6
  },
  {
   "metadata": {},
   "cell_type": "markdown",
   "source": "# Une as colunas dos df´s: df[\"ano\"], df[\"mes\"] e df[\"valor]  ",
   "id": "8114ce344daec6a6"
  },
  {
   "metadata": {
    "ExecuteTime": {
     "end_time": "2024-10-27T22:27:18.809198Z",
     "start_time": "2024-10-27T22:27:18.797158Z"
    }
   },
   "cell_type": "code",
   "source": [
    "df_unido = pd.concat([df[\"ano\"], df[\"mes\"], df[\"valor\"]], axis=1)\n",
    "df_unido"
   ],
   "id": "23ac7ee9fb7664f1",
   "outputs": [
    {
     "data": {
      "text/plain": [
       "      ano  mes  valor\n",
       "0    1994  JAN  41.31\n",
       "1    1994  FEV  40.27\n",
       "2    1994  MAR  42.75\n",
       "3    1994  ABR  42.68\n",
       "4    1994  MAI  44.03\n",
       "..    ...  ...    ...\n",
       "364  2024  MAI   0.46\n",
       "365  2024  JUN   0.21\n",
       "366  2024  JUL   0.38\n",
       "367  2024  AGO  -0.02\n",
       "368  2024  SET   0.44\n",
       "\n",
       "[369 rows x 3 columns]"
      ],
      "text/html": [
       "<div>\n",
       "<style scoped>\n",
       "    .dataframe tbody tr th:only-of-type {\n",
       "        vertical-align: middle;\n",
       "    }\n",
       "\n",
       "    .dataframe tbody tr th {\n",
       "        vertical-align: top;\n",
       "    }\n",
       "\n",
       "    .dataframe thead th {\n",
       "        text-align: right;\n",
       "    }\n",
       "</style>\n",
       "<table border=\"1\" class=\"dataframe\">\n",
       "  <thead>\n",
       "    <tr style=\"text-align: right;\">\n",
       "      <th></th>\n",
       "      <th>ano</th>\n",
       "      <th>mes</th>\n",
       "      <th>valor</th>\n",
       "    </tr>\n",
       "  </thead>\n",
       "  <tbody>\n",
       "    <tr>\n",
       "      <th>0</th>\n",
       "      <td>1994</td>\n",
       "      <td>JAN</td>\n",
       "      <td>41.31</td>\n",
       "    </tr>\n",
       "    <tr>\n",
       "      <th>1</th>\n",
       "      <td>1994</td>\n",
       "      <td>FEV</td>\n",
       "      <td>40.27</td>\n",
       "    </tr>\n",
       "    <tr>\n",
       "      <th>2</th>\n",
       "      <td>1994</td>\n",
       "      <td>MAR</td>\n",
       "      <td>42.75</td>\n",
       "    </tr>\n",
       "    <tr>\n",
       "      <th>3</th>\n",
       "      <td>1994</td>\n",
       "      <td>ABR</td>\n",
       "      <td>42.68</td>\n",
       "    </tr>\n",
       "    <tr>\n",
       "      <th>4</th>\n",
       "      <td>1994</td>\n",
       "      <td>MAI</td>\n",
       "      <td>44.03</td>\n",
       "    </tr>\n",
       "    <tr>\n",
       "      <th>...</th>\n",
       "      <td>...</td>\n",
       "      <td>...</td>\n",
       "      <td>...</td>\n",
       "    </tr>\n",
       "    <tr>\n",
       "      <th>364</th>\n",
       "      <td>2024</td>\n",
       "      <td>MAI</td>\n",
       "      <td>0.46</td>\n",
       "    </tr>\n",
       "    <tr>\n",
       "      <th>365</th>\n",
       "      <td>2024</td>\n",
       "      <td>JUN</td>\n",
       "      <td>0.21</td>\n",
       "    </tr>\n",
       "    <tr>\n",
       "      <th>366</th>\n",
       "      <td>2024</td>\n",
       "      <td>JUL</td>\n",
       "      <td>0.38</td>\n",
       "    </tr>\n",
       "    <tr>\n",
       "      <th>367</th>\n",
       "      <td>2024</td>\n",
       "      <td>AGO</td>\n",
       "      <td>-0.02</td>\n",
       "    </tr>\n",
       "    <tr>\n",
       "      <th>368</th>\n",
       "      <td>2024</td>\n",
       "      <td>SET</td>\n",
       "      <td>0.44</td>\n",
       "    </tr>\n",
       "  </tbody>\n",
       "</table>\n",
       "<p>369 rows × 3 columns</p>\n",
       "</div>"
      ]
     },
     "execution_count": 7,
     "metadata": {},
     "output_type": "execute_result"
    }
   ],
   "execution_count": 7
  },
  {
   "metadata": {
    "ExecuteTime": {
     "end_time": "2024-10-27T22:27:18.814979Z",
     "start_time": "2024-10-27T22:27:18.809198Z"
    }
   },
   "cell_type": "code",
   "source": "df_unido.dtypes",
   "id": "f66aad510866054d",
   "outputs": [
    {
     "data": {
      "text/plain": [
       "ano               int32\n",
       "mes      string[python]\n",
       "valor    string[python]\n",
       "dtype: object"
      ]
     },
     "execution_count": 8,
     "metadata": {},
     "output_type": "execute_result"
    }
   ],
   "execution_count": 8
  },
  {
   "metadata": {},
   "cell_type": "markdown",
   "source": "# Criar um banco de dados SQLITE e salva os dados dentro dele",
   "id": "2e65580ad9b26e88"
  },
  {
   "metadata": {
    "ExecuteTime": {
     "end_time": "2024-10-27T22:27:19.052734Z",
     "start_time": "2024-10-27T22:27:18.814979Z"
    }
   },
   "cell_type": "code",
   "source": [
    "conn = sqlite3.connect(\"ipca.db\")\n",
    "df_unido.to_sql(\"dados\", conn, index=False)\n",
    "conn.close()"
   ],
   "id": "39c7621fc979d77f",
   "outputs": [],
   "execution_count": 9
  }
 ],
 "metadata": {
  "kernelspec": {
   "display_name": "Python 3",
   "language": "python",
   "name": "python3"
  },
  "language_info": {
   "codemirror_mode": {
    "name": "ipython",
    "version": 2
   },
   "file_extension": ".py",
   "mimetype": "text/x-python",
   "name": "python",
   "nbconvert_exporter": "python",
   "pygments_lexer": "ipython2",
   "version": "2.7.6"
  }
 },
 "nbformat": 4,
 "nbformat_minor": 5
}
